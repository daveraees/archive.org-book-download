{
 "cells": [
  {
   "cell_type": "code",
   "execution_count": 1,
   "metadata": {
    "collapsed": true
   },
   "outputs": [],
   "source": [
    "# !/python:\n",
    "#\n",
    "# imports:\n",
    "import time\n",
    "from selenium import webdriver\n",
    "# requires to install geckodriver in the PATH\n",
    "# downloaded from https://github.com/…ses\n",
    "from selenium.webdriver.common.by import By\n",
    "from selenium.webdriver.support.ui import WebDriverWait\n",
    "from selenium.common.exceptions import TimeoutException\n",
    "from selenium.webdriver.support import expected_conditions as EC\n",
    "import numpy as np\n",
    "import cv2\n"
   ]
  },
  {
   "cell_type": "code",
   "execution_count": 2,
   "metadata": {
    "collapsed": true
   },
   "outputs": [],
   "source": [
    "\n",
    "def open_book_url_and_login(url=''):\n",
    "    \"\"\"Automatically open the login screen, enter the credentials manually.\n",
    "    return selenium browser instance\n",
    "    \"\"\"\n",
    "    if url=='':\n",
    "        url = 'https://archive.org/details/musicoftroubadou0000aubr/mode/1up'\n",
    "\n",
    "\n",
    "    login = '***'\n",
    "    pwd = '***'\n",
    "    height = 2000\n",
    "    width = 1000\n",
    "\n",
    "    # initialization: opening the web page\n",
    "    browser = webdriver.Firefox()\n",
    "\n",
    "    browser.set_window_size(width,height)\n",
    "    browser.get(url)\n",
    "\n",
    "    # login\n",
    "    btns = browser.find_elements_by_class_name('button')\n",
    "    btns[0].click() # click the login button\n",
    "    # you can uncoment the lines for automatic login.\n",
    "    # please be aware of security risks of writing you login details into the source code\n",
    "    #uname_box = browser.find_element_by_name('username')\n",
    "    #uname_box.click()\n",
    "    #uname_box.send_keys(login)\n",
    "    #psswd_box = browser.find_element_by_name('password')\n",
    "    #psswd_box.send_keys(pwd)\n",
    "    #log_btn = browser.find_element_by_name('submit-to-login')\n",
    "    #log_btn.click()\n",
    "    return browser"
   ]
  },
  {
   "cell_type": "code",
   "execution_count": 3,
   "metadata": {
    "collapsed": true
   },
   "outputs": [],
   "source": [
    "def get_pageScreenshotCompleted(BRScreen,trial_times=50,sleep_seconds=0.5):\n",
    "    \"\"\"Check the variance of the pixels in the last row of the page screenshot.\n",
    "    If the variance > 0, the page was loaded completely, return, else wait\n",
    "    trial_times : how many times to try and wait\n",
    "    sleep_seconds : how many seconds to wait in single cycle before testing variance\n",
    "    returns the screenshot of the page on PNG format\n",
    "    \"\"\"\n",
    "    #trial_times = 50\n",
    "    for trial in range(trial_times):\n",
    "        shot = BRScreen.screenshot_as_png\n",
    "        img_array = np.frombuffer(shot,dtype=np.uint8)\n",
    "        img = cv2.imdecode(img_array, cv2.IMREAD_COLOR)\n",
    "        variance_last_row = np.var(np.sum(img[-1,1:-1,:],axis=1))\n",
    "        print('.',end='' )\n",
    "        if variance_last_row > 0:\n",
    "            break\n",
    "        else:\n",
    "            time.sleep(sleep_seconds) # additional wait\n",
    "    return shot\n",
    "\n",
    "def download_book(browser,height=3000,width=2000):\n",
    "    \"\"\" downloads the book page by page starting from the actual page in the book.  \n",
    "    Check that it should be zeroth page (scan of the front cover).\n",
    "    The book should be borrowed already, no automatic borrowing is implemented yet.\n",
    "    height, width : pixel size of the browser window used for downloading. \n",
    "    Sometimes the window accidentally snaps to the screen edges. \n",
    "    It should be avoided in the future... \n",
    "    return list of the page filenames, as they were downloaded\n",
    "    \"\"\"\n",
    "    # definign the sections of the bookreader:\n",
    "    #height = 3000\n",
    "    #width = 2000\n",
    "\n",
    "    # initialization: opening the web page\n",
    "\n",
    "    browser.set_window_size(width,height)\n",
    "    BRcontainer = browser.find_element_by_class_name('BRcontainer')\n",
    "    BRControls = browser.find_element_by_class_name('BRcontrols')\n",
    "\n",
    "    BRC_nextPage = BRControls.find_element_by_class_name('BRicon.book_right')\n",
    "\n",
    "\n",
    "    BRC_nextPage = BRControls.find_element_by_class_name('BRicon.book_right')\n",
    "\n",
    "    # first page\n",
    "    pagesFnameLst = []\n",
    "    i=0\n",
    "    BRpagecontainerClassName = (\"BRmode1up.pagediv%d.protected\" % i)\n",
    "    actual_page = browser.find_element_by_class_name(BRpagecontainerClassName)\n",
    "    BRScreen = actual_page.find_element_by_class_name('BRscreen')\n",
    "    shot = get_pageScreenshotCompleted(BRScreen)\n",
    "    page_fname = ('page%04d.png' % i)\n",
    "    with open(page_fname,mode='wb') as imgFile:\n",
    "        imgFile.write(shot)\n",
    "        imgFile.close()\n",
    "    pagesFnameLst.append(page_fname)\n",
    "\n",
    "\n",
    "    while True: \n",
    "        BRC_nextPage.click() \n",
    "        i+=1\n",
    "        BRpagecontainerClassName = (\"BRmode1up.pagediv%d.protected\" % i)\n",
    "        try:\n",
    "            #print(WebDriverWait(browser, 5).until(EC.presence_of_element_located((By.CLASS_NAME, BRpagecontainerClassName))))\n",
    "            WebDriverWait(browser, 5).until(EC.presence_of_element_located((By.CLASS_NAME, BRpagecontainerClassName)))\n",
    "        except TimeoutException:\n",
    "            break\n",
    "        actual_page = browser.find_element_by_class_name(BRpagecontainerClassName)\n",
    "        BRScreen = actual_page.find_element_by_class_name('BRscreen')\n",
    "        # here we need to look at the image, and find out whether it has already loaded\n",
    "        # if not, i.e. the last row of pixels are uniform - pale yelow, wait another few ms...\n",
    "        # and take the screenshot again, then it will be foolproof.\n",
    "        shot = get_pageScreenshotCompleted(BRScreen)\n",
    "        page_fname = ('page%04d.png' % i)\n",
    "        print('writing %s' % page_fname)\n",
    "        with open(page_fname,mode='wb') as imgFile:\n",
    "            imgFile.write(shot)\n",
    "            imgFile.close()\n",
    "        pagesFnameLst.append(page_fname)\n",
    "    print('finished download, pagecount: %d' % i)\n",
    "    \n",
    "    return pagesFnameLst\n"
   ]
  },
  {
   "cell_type": "markdown",
   "metadata": {},
   "source": [
    "# execute the functions"
   ]
  },
  {
   "cell_type": "code",
   "execution_count": 4,
   "metadata": {
    "collapsed": false
   },
   "outputs": [
    {
     "name": "stdout",
     "output_type": "stream",
     "text": [
      "G:\\ML\\books_archive_org\\scans\n"
     ]
    }
   ],
   "source": [
    "cd G:\\ML\\books_archive_org\\scans"
   ]
  },
  {
   "cell_type": "markdown",
   "metadata": {},
   "source": [
    "# book https://archive.org/details/nortonscoresanth0000unse/mode/1up"
   ]
  },
  {
   "cell_type": "code",
   "execution_count": null,
   "metadata": {
    "collapsed": false
   },
   "outputs": [
    {
     "name": "stdout",
     "output_type": "stream",
     "text": [
      "......writing page0001.png\n",
      ".writing page0002.png\n",
      "....writing page0003.png\n",
      ".writing page0004.png\n",
      ".......writing page0005.png\n",
      ".writing page0006.png\n",
      "........writing page0007.png\n",
      ".writing page0008.png\n",
      ".......writing page0009.png\n",
      ".writing page0010.png\n",
      "........writing page0011.png\n",
      ".writing page0012.png\n",
      "....writing page0013.png\n",
      ".writing page0014.png\n",
      ".....writing page0015.png\n",
      "..writing page0016.png\n",
      "...writing page0017.png\n",
      "...writing page0018.png\n",
      ".writing page0019.png\n",
      ".......writing page0020.png\n",
      ".writing page0021.png\n",
      "......writing page0022.png\n",
      ".writing page0023.png\n",
      ".....writing page0024.png\n",
      ".writing page0025.png\n",
      "......writing page0026.png\n",
      ".writing page0027.png\n",
      ".....writing page0028.png\n",
      ".writing page0029.png\n",
      ".....writing page0030.png\n",
      ".writing page0031.png\n",
      ".....writing page0032.png\n",
      ".writing page0033.png\n",
      "......writing page0034.png\n",
      ".writing page0035.png\n",
      ".....writing page0036.png\n",
      ".writing page0037.png\n",
      "......writing page0038.png\n",
      ".writing page0039.png\n",
      "......writing page0040.png\n",
      ".writing page0041.png\n",
      ".....writing page0042.png\n",
      ".writing page0043.png\n",
      ".....writing page0044.png\n",
      ".writing page0045.png\n",
      ".....writing page0046.png\n",
      ".writing page0047.png\n",
      "..."
     ]
    }
   ],
   "source": [
    "\n",
    "bookId = 'nortonscoresanth0000unse'\n",
    "browser = open_book_url_and_login('https://archive.org/details/%s/mode/1up' % bookId)\n",
    "# we need to borrow the book either before downloading, or \n",
    "# do it automatically\n",
    "time.sleep(60) # wait for some time for user to enter his credentials\n",
    "pageFnames = download_book (browser)\n",
    "browser.close()"
   ]
  },
  {
   "cell_type": "markdown",
   "metadata": {
    "collapsed": true
   },
   "source": [
    "The book should be now dowloaded. "
   ]
  }
 ],
 "metadata": {
  "kernelspec": {
   "display_name": "Python 3",
   "language": "python",
   "name": "python3"
  },
  "language_info": {
   "codemirror_mode": {
    "name": "ipython",
    "version": 3
   },
   "file_extension": ".py",
   "mimetype": "text/x-python",
   "name": "python",
   "nbconvert_exporter": "python",
   "pygments_lexer": "ipython3",
   "version": "3.6.0"
  }
 },
 "nbformat": 4,
 "nbformat_minor": 2
}
